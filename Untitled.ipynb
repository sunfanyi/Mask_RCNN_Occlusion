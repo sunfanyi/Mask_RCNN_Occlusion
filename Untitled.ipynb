{
 "cells": [
  {
   "cell_type": "code",
   "execution_count": 1,
   "id": "612e99a6",
   "metadata": {},
   "outputs": [
    {
     "name": "stdout",
     "output_type": "stream",
     "text": [
      "imported\n"
     ]
    },
    {
     "name": "stderr",
     "output_type": "stream",
     "text": [
      "Using TensorFlow backend.\n"
     ]
    }
   ],
   "source": [
    "import os\n",
    "import sys\n",
    "import random\n",
    "import math\n",
    "import re\n",
    "import time\n",
    "import numpy as np\n",
    "import tensorflow as tf\n",
    "import matplotlib\n",
    "import matplotlib.pyplot as plt\n",
    "import matplotlib.patches as patches\n",
    "\n",
    "# Root directory of the project\n",
    "ROOT_DIR = os.path.abspath(\"../\")\n",
    "\n",
    "# Import Mask RCNNr\n",
    "sys.path.append(ROOT_DIR)  # To find local version of the library\n",
    "from mrcnn import utils\n",
    "from mrcnn import visualize\n",
    "from mrcnn.visualize import display_images\n",
    "import mrcnn.model as modellib\n",
    "from mrcnn.model import log\n",
    "\n",
    "%matplotlib inline \n",
    "\n",
    "# Directory to save logs and trained model\n",
    "MODEL_DIR = os.path.join(ROOT_DIR, \"logs\")\n",
    "\n",
    "# Local path to trained weights file\n",
    "# MODEL_PATH = os.path.join(ROOT_DIR, \"mask_rcnn_coco.h5\")\n",
    "# MODEL_PATH = os.path.join(ROOT_DIR, r\"logs\\train_003_24_m351_with_tensorboard_wrong\\mask_rcnn_occlusion_0024.h5\")\n",
    "MODEL_PATH = r\"d:\\Users\\ROG\\Desktop\\FYP\\Mask_RCNN-Occulusion\\logs\\train_004_120_m351\\mask_rcnn_occlusion_0120.h5\""
   ]
  },
  {
   "cell_type": "code",
   "execution_count": 2,
   "id": "3274758e",
   "metadata": {},
   "outputs": [
    {
     "name": "stdout",
     "output_type": "stream",
     "text": [
      "D:\\Downloads\\anaconda3\\envs\\mrcnn\n"
     ]
    }
   ],
   "source": [
    "import sys\n",
    "print(sys.prefix)"
   ]
  },
  {
   "cell_type": "code",
   "execution_count": 1,
   "id": "17942ac5",
   "metadata": {},
   "outputs": [
    {
     "name": "stdout",
     "output_type": "stream",
     "text": [
      "None\n",
      "['D:\\\\Downloads\\\\anaconda3\\\\envs\\\\mrcnn\\\\python36.zip', 'D:\\\\Downloads\\\\anaconda3\\\\envs\\\\mrcnn\\\\DLLs', 'D:\\\\Downloads\\\\anaconda3\\\\envs\\\\mrcnn\\\\lib', 'D:\\\\Downloads\\\\anaconda3\\\\envs\\\\mrcnn', '', 'D:\\\\Downloads\\\\anaconda3\\\\envs\\\\mrcnn\\\\lib\\\\site-packages', 'D:\\\\Downloads\\\\anaconda3\\\\envs\\\\mrcnn\\\\lib\\\\site-packages\\\\mask_rcnn-2.1-py3.6.egg', 'D:\\\\Downloads\\\\anaconda3\\\\envs\\\\mrcnn\\\\lib\\\\site-packages\\\\win32', 'D:\\\\Downloads\\\\anaconda3\\\\envs\\\\mrcnn\\\\lib\\\\site-packages\\\\win32\\\\lib', 'D:\\\\Downloads\\\\anaconda3\\\\envs\\\\mrcnn\\\\lib\\\\site-packages\\\\Pythonwin', 'D:\\\\Downloads\\\\anaconda3\\\\envs\\\\mrcnn\\\\lib\\\\site-packages\\\\IPython\\\\extensions', 'C:\\\\Users\\\\ROG\\\\.ipython']\n"
     ]
    }
   ],
   "source": [
    "import os\n",
    "import sys\n",
    "\n",
    "# Print the value of PYTHONPATH\n",
    "print(os.environ.get('PYTHONPATH'))\n",
    "\n",
    "# Print the contents of sys.path\n",
    "print(sys.path)"
   ]
  },
  {
   "cell_type": "code",
   "execution_count": null,
   "id": "7985ca7b",
   "metadata": {},
   "outputs": [],
   "source": []
  }
 ],
 "metadata": {
  "kernelspec": {
   "display_name": "Python 3",
   "language": "python",
   "name": "python3"
  },
  "language_info": {
   "codemirror_mode": {
    "name": "ipython",
    "version": 3
   },
   "file_extension": ".py",
   "mimetype": "text/x-python",
   "name": "python",
   "nbconvert_exporter": "python",
   "pygments_lexer": "ipython3",
   "version": "3.6.12"
  }
 },
 "nbformat": 4,
 "nbformat_minor": 5
}
